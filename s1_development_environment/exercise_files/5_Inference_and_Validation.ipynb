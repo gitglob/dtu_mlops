{
 "cells": [
  {
   "cell_type": "markdown",
   "metadata": {},
   "source": [
    "# Inference and Validation\n",
    "\n",
    "Now that you have a trained network, you can use it for making predictions. This is typically called **inference**, a term borrowed from statistics. However, neural networks have a tendency to perform *too well* on the training data and aren't able to generalize to data that hasn't been seen before. This is called **overfitting** and it impairs inference performance. To test for overfitting while training, we measure the performance on data not in the training set called the **validation** set. We avoid overfitting through regularization such as dropout while monitoring the validation performance during training. In this notebook, I'll show you how to do this in PyTorch. \n",
    "\n",
    "As usual, let's start by loading the dataset through torchvision. You'll learn more about torchvision and loading data in a later part. This time we'll be taking advantage of the test set which you can get by setting `train=False` here:\n",
    "\n",
    "```python\n",
    "testset = datasets.FashionMNIST('~/.pytorch/F_MNIST_data/', download=True, train=False, transform=transform)\n",
    "```\n",
    "\n",
    "The test set contains images just like the training set. Typically you'll see 10-20% of the original dataset held out for testing and validation with the rest being used for training."
   ]
  },
  {
   "cell_type": "code",
   "execution_count": 15,
   "metadata": {},
   "outputs": [],
   "source": [
    "import torch\n",
    "from torchvision import datasets, transforms\n",
    "\n",
    "# Define a transform to normalize the data\n",
    "transform = transforms.Compose([transforms.ToTensor(),\n",
    "                                transforms.Normalize((0.5,), (0.5,))])\n",
    "# Download and load the training data\n",
    "trainset = datasets.FashionMNIST('~/.pytorch/F_MNIST_data/', download=True, train=True, transform=transform)\n",
    "trainloader = torch.utils.data.DataLoader(trainset, batch_size=64, shuffle=True)\n",
    "\n",
    "# Download and load the test data\n",
    "testset = datasets.FashionMNIST('~/.pytorch/F_MNIST_data/', download=True, train=False, transform=transform)\n",
    "testloader = torch.utils.data.DataLoader(testset, batch_size=64, shuffle=True)"
   ]
  },
  {
   "cell_type": "markdown",
   "metadata": {},
   "source": [
    "Here I'll create a model like normal, using the same one from my solution for part 4."
   ]
  },
  {
   "cell_type": "code",
   "execution_count": 16,
   "metadata": {},
   "outputs": [],
   "source": [
    "from torch import nn, optim\n",
    "import torch.nn.functional as F\n",
    "\n",
    "class Classifier(nn.Module):\n",
    "    def __init__(self):\n",
    "        super().__init__()\n",
    "        self.fc1 = nn.Linear(784, 256)\n",
    "        self.fc2 = nn.Linear(256, 128)\n",
    "        self.fc3 = nn.Linear(128, 64)\n",
    "        self.fc4 = nn.Linear(64, 10)\n",
    "        \n",
    "    def forward(self, x):\n",
    "        # make sure input tensor is flattened\n",
    "        x = x.view(x.shape[0], -1)\n",
    "        \n",
    "        x = F.relu(self.fc1(x))\n",
    "        x = F.relu(self.fc2(x))\n",
    "        x = F.relu(self.fc3(x))\n",
    "        x = F.log_softmax(self.fc4(x), dim=1)\n",
    "        \n",
    "        return x"
   ]
  },
  {
   "cell_type": "markdown",
   "metadata": {},
   "source": [
    "The goal of validation is to measure the model's performance on data that isn't part of the training set. Performance here is up to the developer to define though. Typically this is just accuracy, the percentage of classes the network predicted correctly. Other options are [precision and recall](https://en.wikipedia.org/wiki/Precision_and_recall#Definition_(classification_context)) and top-5 error rate. We'll focus on accuracy here. First I'll do a forward pass with one batch from the test set."
   ]
  },
  {
   "cell_type": "code",
   "execution_count": 17,
   "metadata": {},
   "outputs": [
    {
     "name": "stdout",
     "output_type": "stream",
     "text": [
      "torch.Size([64, 10])\n"
     ]
    }
   ],
   "source": [
    "model = Classifier()\n",
    "\n",
    "images, labels = next(iter(testloader))\n",
    "# Get the class probabilities\n",
    "ps = torch.exp(model(images))\n",
    "# Make sure the shape is appropriate, we should get 10 class probabilities for 64 examples\n",
    "print(ps.shape)"
   ]
  },
  {
   "cell_type": "markdown",
   "metadata": {},
   "source": [
    "With the probabilities, we can get the most likely class using the `ps.topk` method. This returns the $k$ highest values. Since we just want the most likely class, we can use `ps.topk(1)`. This returns a tuple of the top-$k$ values and the top-$k$ indices. If the highest value is the fifth element, we'll get back 4 as the index."
   ]
  },
  {
   "cell_type": "code",
   "execution_count": 19,
   "metadata": {},
   "outputs": [
    {
     "name": "stdout",
     "output_type": "stream",
     "text": [
      "tensor([[2],\n",
      "        [7],\n",
      "        [7],\n",
      "        [7],\n",
      "        [7],\n",
      "        [7],\n",
      "        [7],\n",
      "        [7],\n",
      "        [2],\n",
      "        [7]])\n"
     ]
    }
   ],
   "source": [
    "top_p, top_class = ps.topk(1, dim=1)\n",
    "# Look at the most likely classes for the first 10 examples\n",
    "print(top_class[:10,:])"
   ]
  },
  {
   "cell_type": "markdown",
   "metadata": {},
   "source": [
    "Now we can check if the predicted classes match the labels. This is simple to do by equating `top_class` and `labels`, but we have to be careful of the shapes. Here `top_class` is a 2D tensor with shape `(64, 1)` while `labels` is 1D with shape `(64)`. To get the equality to work out the way we want, `top_class` and `labels` must have the same shape.\n",
    "\n",
    "If we do\n",
    "\n",
    "```python\n",
    "equals = top_class == labels\n",
    "```\n",
    "\n",
    "`equals` will have shape `(64, 64)`, try it yourself. What it's doing is comparing the one element in each row of `top_class` with each element in `labels` which returns 64 True/False boolean values for each row."
   ]
  },
  {
   "cell_type": "code",
   "execution_count": 20,
   "metadata": {},
   "outputs": [],
   "source": [
    "equals = top_class == labels.view(*top_class.shape)"
   ]
  },
  {
   "cell_type": "markdown",
   "metadata": {},
   "source": [
    "Now we need to calculate the percentage of correct predictions. `equals` has binary values, either 0 or 1. This means that if we just sum up all the values and divide by the number of values, we get the percentage of correct predictions. This is the same operation as taking the mean, so we can get the accuracy with a call to `torch.mean`. If only it was that simple. If you try `torch.mean(equals)`, you'll get an error\n",
    "\n",
    "```\n",
    "RuntimeError: mean is not implemented for type torch.ByteTensor\n",
    "```\n",
    "\n",
    "This happens because `equals` has type `torch.ByteTensor` but `torch.mean` isn't implemented for tensors with that type. So we'll need to convert `equals` to a float tensor. Note that when we take `torch.mean` it returns a scalar tensor, to get the actual value as a float we'll need to do `accuracy.item()`."
   ]
  },
  {
   "cell_type": "code",
   "execution_count": 21,
   "metadata": {},
   "outputs": [
    {
     "name": "stdout",
     "output_type": "stream",
     "text": [
      "Accuracy: 9.375%\n"
     ]
    }
   ],
   "source": [
    "accuracy = torch.mean(equals.type(torch.FloatTensor))\n",
    "print(f'Accuracy: {accuracy.item()*100}%')"
   ]
  },
  {
   "cell_type": "markdown",
   "metadata": {},
   "source": [
    "The network is untrained so it's making random guesses and we should see an accuracy around 10%. Now let's train our network and include our validation pass so we can measure how well the network is performing on the test set. Since we're not updating our parameters in the validation pass, we can speed up our code by turning off gradients using `torch.no_grad()`:\n",
    "\n",
    "```python\n",
    "# turn off gradients\n",
    "with torch.no_grad():\n",
    "    # validation pass here\n",
    "    for images, labels in testloader:\n",
    "        ...\n",
    "```\n",
    "\n",
    ">**Exercise:** Implement the validation loop below and print out the total accuracy after the loop. You can largely copy and paste the code from above, but I suggest typing it in because writing it out yourself is essential for building the skill. In general you'll always learn more by typing it rather than copy-pasting. You should be able to get an accuracy above 80%."
   ]
  },
  {
   "cell_type": "code",
   "execution_count": null,
   "metadata": {},
   "outputs": [],
   "source": [
    "model = Classifier()\n",
    "criterion = nn.NLLLoss()\n",
    "optimizer = optim.Adam(model.parameters(), lr=0.003)\n",
    "\n",
    "epochs = 10\n",
    "steps = 0\n",
    "\n",
    "train_losses, val_losses = [], []\n",
    "train_accs, val_accs = [], []"
   ]
  },
  {
   "cell_type": "code",
   "execution_count": 36,
   "metadata": {},
   "outputs": [
    {
     "name": "stdout",
     "output_type": "stream",
     "text": [
      "Training loss: 0.25941946884112826\n",
      "Training acc: 0.9038666666666667\n",
      "Validation loss: 0.3680794263246712\n",
      "Validation acc: 0.8735\n",
      "Training loss: 0.2560064381262514\n",
      "Training acc: 0.9058833333333334\n",
      "Validation loss: 0.3750723414834897\n",
      "Validation acc: 0.8756\n",
      "Training loss: 0.24531996808946133\n",
      "Training acc: 0.9091166666666667\n",
      "Validation loss: 0.3651373225982022\n",
      "Validation acc: 0.8771\n",
      "Training loss: 0.24552692981687055\n",
      "Training acc: 0.9101666666666667\n",
      "Validation loss: 0.3814247908770658\n",
      "Validation acc: 0.8728\n",
      "Training loss: 0.241160063867344\n",
      "Training acc: 0.9117333333333333\n",
      "Validation loss: 0.3859245381347693\n",
      "Validation acc: 0.8698\n",
      "Training loss: 0.2335328076447823\n",
      "Training acc: 0.9137666666666666\n",
      "Validation loss: 0.37523876794963884\n",
      "Validation acc: 0.876\n",
      "Training loss: 0.22739246322799211\n",
      "Training acc: 0.9154666666666667\n",
      "Validation loss: 0.370032761862893\n",
      "Validation acc: 0.8816\n",
      "Training loss: 0.2247474490960778\n",
      "Training acc: 0.9167666666666666\n",
      "Validation loss: 0.37216550481926863\n",
      "Validation acc: 0.8786\n",
      "Training loss: 0.21902887952098968\n",
      "Training acc: 0.9191666666666667\n",
      "Validation loss: 0.37016095866443244\n",
      "Validation acc: 0.8845\n",
      "Training loss: 0.2154022506646701\n",
      "Training acc: 0.9202833333333333\n",
      "Validation loss: 0.3878175223803824\n",
      "Validation acc: 0.8823\n"
     ]
    }
   ],
   "source": [
    "for e in range(epochs):\n",
    "    model.train()\n",
    "    running_loss = 0\n",
    "    total_correct = 0\n",
    "    for images, labels in trainloader:\n",
    "        \n",
    "        optimizer.zero_grad()\n",
    "        \n",
    "        log_ps = model(images)\n",
    "        _, predicted = torch.max(log_ps, dim=1)\n",
    "        loss = criterion(log_ps, labels)\n",
    "        loss.backward()\n",
    "        optimizer.step()\n",
    "        \n",
    "        running_loss += loss.item()\n",
    "        total_correct += (predicted == labels).sum().item()\n",
    "        \n",
    "    else:\n",
    "        # We don't need gradients on to do reporting\n",
    "        model.eval()\n",
    "        with torch.no_grad():\n",
    "            running_vloss = 0.0\n",
    "            total_vcorrect = 0\n",
    "            for images, labels in testloader:\n",
    "                log_ps = model(images)\n",
    "                _, predicted = torch.max(log_ps, dim=1)\n",
    "                loss = criterion(log_ps, labels)\n",
    "                \n",
    "                running_vloss += loss.item()\n",
    "                total_vcorrect += (predicted == labels).sum().item()\n",
    "        \n",
    "    train_accuracy = total_correct / len(trainloader.dataset)\n",
    "    train_loss = running_loss/len(trainloader)\n",
    "    print(f'Training loss: {train_loss}')\n",
    "    print(f'Training acc: {train_accuracy}')\n",
    "    val_accuracy = total_vcorrect / len(testloader.dataset)\n",
    "    val_loss = running_vloss/len(testloader)\n",
    "    print(f'Validation loss: {val_loss}')\n",
    "    print(f'Validation acc: {val_accuracy}')\n",
    "    \n",
    "    train_losses.append(train_loss)\n",
    "    val_losses.append(val_loss)\n",
    "    train_accs.append(train_accuracy)\n",
    "    val_accs.append(val_accuracy)"
   ]
  },
  {
   "cell_type": "code",
   "execution_count": 37,
   "metadata": {},
   "outputs": [
    {
     "data": {
      "image/png": "[encoded data removed]",
      "text/plain": [
       "<Figure size 640x480 with 1 Axes>"
      ]
     },
     "metadata": {},
     "output_type": "display_data"
    }
   ],
   "source": [
    "import numpy as np\n",
    "import matplotlib.pyplot as plt\n",
    "%matplotlib inline\n",
    "\n",
    "x = np.arange(len(train_losses))\n",
    "plt.plot(x, train_losses, label=\"train_loss\")\n",
    "plt.plot(x, val_losses, label=\"val_loss\")\n",
    "plt.plot(x, train_accs, label=\"train_acc\")\n",
    "plt.plot(x, val_accs, label=\"val_acc\")\n",
    "\n",
    "plt.legend()\n",
    "plt.show()"
   ]
  },
  {
   "cell_type": "markdown",
   "metadata": {},
   "source": [
    "## Overfitting\n",
    "\n",
    "If we look at the training and validation losses as we train the network, we can see a phenomenon known as overfitting.\n",
    "\n",
    "<img src='assets/overfitting.png' width=450px>\n",
    "\n",
    "The network learns the training set better and better, resulting in lower training losses. However, it starts having problems generalizing to data outside the training set leading to the validation loss increasing. The ultimate goal of any deep learning model is to make predictions on new data, so we should strive to get the lowest validation loss possible. One option is to use the version of the model with the lowest validation loss, here the one around 8-10 training epochs. This strategy is called *early-stopping*. In practice, you'd save the model frequently as you're training then later choose the model with the lowest validation loss.\n",
    "\n",
    "The most common method to reduce overfitting (outside of early-stopping) is *dropout*, where we randomly drop input units. This forces the network to share information between weights, increasing it's ability to generalize to new data. Adding dropout in PyTorch is straightforward using the [`nn.Dropout`](https://pytorch.org/docs/stable/nn.html#torch.nn.Dropout) module.\n",
    "\n",
    "```python\n",
    "class Classifier(nn.Module):\n",
    "    def __init__(self):\n",
    "        super().__init__()\n",
    "        self.fc1 = nn.Linear(784, 256)\n",
    "        self.fc2 = nn.Linear(256, 128)\n",
    "        self.fc3 = nn.Linear(128, 64)\n",
    "        self.fc4 = nn.Linear(64, 10)\n",
    "        \n",
    "        # Dropout module with 0.2 drop probability\n",
    "        self.dropout = nn.Dropout(p=0.2)\n",
    "        \n",
    "    def forward(self, x):\n",
    "        # make sure input tensor is flattened\n",
    "        x = x.view(x.shape[0], -1)\n",
    "        \n",
    "        # Now with dropout\n",
    "        x = self.dropout(F.relu(self.fc1(x)))\n",
    "        x = self.dropout(F.relu(self.fc2(x)))\n",
    "        x = self.dropout(F.relu(self.fc3(x)))\n",
    "        \n",
    "        # output so no dropout here\n",
    "        x = F.log_softmax(self.fc4(x), dim=1)\n",
    "        \n",
    "        return x\n",
    "```\n",
    "\n",
    "During training we want to use dropout to prevent overfitting, but during inference we want to use the entire network. So, we need to turn off dropout during validation, testing, and whenever we're using the network to make predictions. To do this, you use `model.eval()`. This sets the model to evaluation mode where the dropout probability is 0. You can turn dropout back on by setting the model to train mode with `model.train()`. In general, the pattern for the validation loop will look like this, where you turn off gradients, set the model to evaluation mode, calculate the validation loss and metric, then set the model back to train mode.\n",
    "\n",
    "```python\n",
    "# turn off gradients\n",
    "with torch.no_grad():\n",
    "    \n",
    "    # set model to evaluation mode\n",
    "    model.eval()\n",
    "    \n",
    "    # validation pass here\n",
    "    for images, labels in testloader:\n",
    "        ...\n",
    "\n",
    "# set model back to train mode\n",
    "model.train()\n",
    "```"
   ]
  },
  {
   "cell_type": "markdown",
   "metadata": {},
   "source": [
    "> **Exercise:** Add dropout to your model and train it on Fashion-MNIST again. See if you can get a lower validation loss or higher accuracy."
   ]
  },
  {
   "cell_type": "code",
   "execution_count": 38,
   "metadata": {},
   "outputs": [],
   "source": [
    "## TODO: Define your model with dropout added\n",
    "class Classifier(nn.Module):\n",
    "    def __init__(self):\n",
    "        super().__init__()\n",
    "        self.fc1 = nn.Linear(784, 256)\n",
    "        self.fc2 = nn.Linear(256, 128)\n",
    "        self.fc3 = nn.Linear(128, 64)\n",
    "        self.fc4 = nn.Linear(64, 10)\n",
    "        \n",
    "        self.dropout = nn.Dropout(p=0.5)\n",
    "        \n",
    "    def forward(self, x):\n",
    "        # make sure input tensor is flattened\n",
    "        x = x.view(x.shape[0], -1)\n",
    "        \n",
    "        x = self.dropout(F.relu(self.fc1(x)))\n",
    "        x = self.dropout(F.relu(self.fc2(x)))\n",
    "        x = self.dropout(F.relu(self.fc3(x)))\n",
    "        \n",
    "        x = F.log_softmax(self.fc4(x), dim=1)\n",
    "        \n",
    "        return x"
   ]
  },
  {
   "cell_type": "code",
   "execution_count": 39,
   "metadata": {},
   "outputs": [],
   "source": [
    "model = Classifier()\n",
    "criterion = nn.NLLLoss()\n",
    "optimizer = optim.Adam(model.parameters(), lr=0.003)\n",
    "\n",
    "epochs = 20\n",
    "steps = 0\n",
    "\n",
    "train_losses, val_losses = [], []\n",
    "train_accs, val_accs = [], []"
   ]
  },
  {
   "cell_type": "code",
   "execution_count": 40,
   "metadata": {},
   "outputs": [
    {
     "name": "stdout",
     "output_type": "stream",
     "text": [
      "Training loss: 0.856907870755521\n",
      "Training acc: 0.6862166666666667\n",
      "Validation loss: 0.5804207162682418\n",
      "Validation acc: 0.7928\n",
      "Training loss: 0.7040545237915856\n",
      "Training acc: 0.7616666666666667\n",
      "Validation loss: 0.5484214246652688\n",
      "Validation acc: 0.8124\n",
      "Training loss: 0.6606530966852774\n",
      "Training acc: 0.7757166666666667\n",
      "Validation loss: 0.501150910641737\n",
      "Validation acc: 0.8181\n",
      "Training loss: 0.6504019951578904\n",
      "Training acc: 0.78175\n",
      "Validation loss: 0.4873140683978986\n",
      "Validation acc: 0.8304\n",
      "Training loss: 0.6471212871992258\n",
      "Training acc: 0.78305\n",
      "Validation loss: 0.49757577450412094\n",
      "Validation acc: 0.8235\n",
      "Training loss: 0.6270316841124471\n",
      "Training acc: 0.7899\n",
      "Validation loss: 0.48460703215021994\n",
      "Validation acc: 0.8301\n",
      "Training loss: 0.6239327479209473\n",
      "Training acc: 0.7947666666666666\n",
      "Validation loss: 0.49691652150670435\n",
      "Validation acc: 0.8234\n",
      "Training loss: 0.6201274954497433\n",
      "Training acc: 0.7940333333333334\n",
      "Validation loss: 0.48577766965149316\n",
      "Validation acc: 0.8288\n",
      "Training loss: 0.6174160528983643\n",
      "Training acc: 0.79675\n",
      "Validation loss: 0.45096939261172225\n",
      "Validation acc: 0.8371\n",
      "Training loss: 0.6182517629823705\n",
      "Training acc: 0.7938833333333334\n",
      "Validation loss: 0.49481057712606563\n",
      "Validation acc: 0.8284\n",
      "Training loss: 0.6196374444247309\n",
      "Training acc: 0.79465\n",
      "Validation loss: 0.45678995720520144\n",
      "Validation acc: 0.8389\n",
      "Training loss: 0.6114751505317972\n",
      "Training acc: 0.7978666666666666\n",
      "Validation loss: 0.45444822567663373\n",
      "Validation acc: 0.8409\n",
      "Training loss: 0.5964387987913099\n",
      "Training acc: 0.8042166666666667\n",
      "Validation loss: 0.4846818044686773\n",
      "Validation acc: 0.834\n",
      "Training loss: 0.6192955017280477\n",
      "Training acc: 0.7936666666666666\n",
      "Validation loss: 0.4813619476215095\n",
      "Validation acc: 0.8301\n",
      "Training loss: 0.6062519353971298\n",
      "Training acc: 0.79955\n",
      "Validation loss: 0.46994260589408265\n",
      "Validation acc: 0.8423\n",
      "Training loss: 0.6004309411813964\n",
      "Training acc: 0.8042333333333334\n",
      "Validation loss: 0.46911558717679064\n",
      "Validation acc: 0.8415\n",
      "Training loss: 0.6037863603850672\n",
      "Training acc: 0.8005\n",
      "Validation loss: 0.4960036282516589\n",
      "Validation acc: 0.8292\n",
      "Training loss: 0.6204245121303652\n",
      "Training acc: 0.7962\n",
      "Validation loss: 0.46705585015807183\n",
      "Validation acc: 0.8341\n",
      "Training loss: 0.6112921865764203\n",
      "Training acc: 0.79765\n",
      "Validation loss: 0.4805579815700555\n",
      "Validation acc: 0.8377\n",
      "Training loss: 0.6016081153139122\n",
      "Training acc: 0.7998666666666666\n",
      "Validation loss: 0.46625570924418747\n",
      "Validation acc: 0.8406\n"
     ]
    }
   ],
   "source": [
    "for e in range(epochs):\n",
    "    model.train()\n",
    "    running_loss = 0\n",
    "    total_correct = 0\n",
    "    for images, labels in trainloader:\n",
    "        \n",
    "        optimizer.zero_grad()\n",
    "        \n",
    "        log_ps = model(images)\n",
    "        _, predicted = torch.max(log_ps, dim=1)\n",
    "        loss = criterion(log_ps, labels)\n",
    "        loss.backward()\n",
    "        optimizer.step()\n",
    "        \n",
    "        running_loss += loss.item()\n",
    "        total_correct += (predicted == labels).sum().item()\n",
    "        \n",
    "    else:\n",
    "        # We don't need gradients on to do reporting\n",
    "        model.eval()\n",
    "        with torch.no_grad():\n",
    "            running_vloss = 0.0\n",
    "            total_vcorrect = 0\n",
    "            for images, labels in testloader:\n",
    "                log_ps = model(images)\n",
    "                _, predicted = torch.max(log_ps, dim=1)\n",
    "                loss = criterion(log_ps, labels)\n",
    "                \n",
    "                running_vloss += loss.item()\n",
    "                total_vcorrect += (predicted == labels).sum().item()\n",
    "        \n",
    "    train_accuracy = total_correct / len(trainloader.dataset)\n",
    "    train_loss = running_loss/len(trainloader)\n",
    "    print(f'Training loss: {train_loss}')\n",
    "    print(f'Training acc: {train_accuracy}')\n",
    "    val_accuracy = total_vcorrect / len(testloader.dataset)\n",
    "    val_loss = running_vloss/len(testloader)\n",
    "    print(f'Validation loss: {val_loss}')\n",
    "    print(f'Validation acc: {val_accuracy}')\n",
    "    \n",
    "    train_losses.append(train_loss)\n",
    "    val_losses.append(val_loss)\n",
    "    train_accs.append(train_accuracy)\n",
    "    val_accs.append(val_accuracy)"
   ]
  },
  {
   "cell_type": "code",
   "execution_count": 41,
   "metadata": {},
   "outputs": [
    {
     "data": {
      "image/png": "[encoded data removed]",
      "text/plain": [
       "<Figure size 640x480 with 1 Axes>"
      ]
     },
     "metadata": {},
     "output_type": "display_data"
    }
   ],
   "source": [
    "x = np.arange(len(train_losses))\n",
    "plt.plot(x, train_losses, label=\"train_loss\")\n",
    "plt.plot(x, val_losses, label=\"val_loss\")\n",
    "plt.plot(x, train_accs, label=\"train_acc\")\n",
    "plt.plot(x, val_accs, label=\"val_acc\")\n",
    "\n",
    "plt.legend()\n",
    "plt.show()"
   ]
  },
  {
   "cell_type": "markdown",
   "metadata": {},
   "source": [
    "## Inference\n",
    "\n",
    "Now that the model is trained, we can use it for inference. We've done this before, but now we need to remember to set the model in inference mode with `model.eval()`. You'll also want to turn off autograd with the `torch.no_grad()` context."
   ]
  },
  {
   "cell_type": "code",
   "execution_count": 42,
   "metadata": {},
   "outputs": [
    {
     "data": {
      "image/png": "[encoded data removed]",
      "text/plain": [
       "<Figure size 600x900 with 2 Axes>"
      ]
     },
     "metadata": {},
     "output_type": "display_data"
    }
   ],
   "source": [
    "# Import helper module (should be in the repo)\n",
    "import helper\n",
    "\n",
    "# Test out your network!\n",
    "\n",
    "model.eval()\n",
    "\n",
    "dataiter = iter(testloader)\n",
    "images, labels = next(dataiter)\n",
    "img = images[0]\n",
    "# Convert 2D image to 1D vector\n",
    "img = img.view(1, 784)\n",
    "\n",
    "# Calculate the class probabilities (softmax) for img\n",
    "with torch.no_grad():\n",
    "    output = model.forward(img)\n",
    "\n",
    "ps = torch.exp(output)\n",
    "\n",
    "# Plot the image and probabilities\n",
    "helper.view_classify(img.view(1, 28, 28), ps, version='Fashion')"
   ]
  },
  {
   "cell_type": "markdown",
   "metadata": {},
   "source": [
    "## Next Up!\n",
    "\n",
    "In the next part, I'll show you how to save your trained models. In general, you won't want to train a model everytime you need it. Instead, you'll train once, save it, then load the model when you want to train more or use if for inference."
   ]
  }
 ],
 "metadata": {
  "kernelspec": {
   "display_name": "Python 3 (ipykernel)",
   "language": "python",
   "name": "python3"
  },
  "language_info": {
   "codemirror_mode": {
    "name": "ipython",
    "version": 3
   },
   "file_extension": ".py",
   "mimetype": "text/x-python",
   "name": "python",
   "nbconvert_exporter": "python",
   "pygments_lexer": "ipython3",
   "version": "3.10.9"
  }
 },
 "nbformat": 4,
 "nbformat_minor": 2
}
